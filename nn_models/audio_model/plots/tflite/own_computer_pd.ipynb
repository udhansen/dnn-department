{
 "cells": [
  {
   "cell_type": "code",
   "execution_count": 1,
   "metadata": {},
   "outputs": [],
   "source": [
    "import pandas as pd"
   ]
  },
  {
   "cell_type": "code",
   "execution_count": 2,
   "metadata": {},
   "outputs": [
    {
     "name": "stdout",
     "output_type": "stream",
     "text": [
      "                 count  avg_ms      avg %     cdf %  mem KB  times called\n",
      "node type                                                                \n",
      "CONV_2D              2   0.530   36.7036%  36.7036%       0             2\n",
      "RFFT2D               1   0.349    24.169%  60.8726%       0             1\n",
      "FULLY_CONNECTED      2   0.334   23.1302%  84.0028%       0             2\n",
      "GATHER               2   0.107   7.40997%  91.4127%       0             2\n",
      "COMPLEX_ABS          1   0.059   4.08587%  95.4986%       0             1\n",
      "MAX_POOL_2D          1   0.027   1.86981%  97.3684%       0             1\n",
      "RESIZE_BILINEAR      1   0.020   1.38504%  98.7535%       0             1\n",
      "PAD                  1   0.007  0.484765%  99.2382%       0             1\n",
      "MUL                  1   0.007  0.484765%   99.723%       0             1\n",
      "RESHAPE              6   0.003  0.207756%  99.9307%       0             6\n"
     ]
    }
   ],
   "source": [
    "df_cpu = pd.read_csv('/home/udhansen/nn_models/audio_model/benchmark/own_computer/tflite/benchmark_data_reg/run1/cpu/default/Summary_by_node_type.csv', skiprows=1, index_col=0, skipinitialspace=True)\n",
    "print(df_cpu)\n",
    "df_cpu = pd.DataFrame(df_cpu.sum(), columns=['CPU thr: def']).T"
   ]
  },
  {
   "cell_type": "code",
   "execution_count": 3,
   "metadata": {},
   "outputs": [
    {
     "name": "stdout",
     "output_type": "stream",
     "text": [
      "                 count  avg_ms      avg %     cdf %  mem KB  times called\n",
      "node type                                                                \n",
      "CONV_2D              2   0.538   36.6485%  36.6485%       0             2\n",
      "FULLY_CONNECTED      2   0.350    23.842%  60.4905%       0             2\n",
      "RFFT2D               1   0.349   23.7738%  84.2643%       0             1\n",
      "GATHER               2   0.107   7.28883%  91.5531%       0             2\n",
      "COMPLEX_ABS          1   0.059   4.01907%  95.5722%       0             1\n",
      "MAX_POOL_2D          1   0.028   1.90736%  97.4796%       0             1\n",
      "RESIZE_BILINEAR      1   0.020    1.3624%   98.842%       0             1\n",
      "PAD                  1   0.007  0.476839%  99.3188%       0             1\n",
      "MUL                  1   0.007  0.476839%  99.7956%       0             1\n",
      "RESHAPE              6   0.003   0.20436%      100%       0             6\n"
     ]
    }
   ],
   "source": [
    "df_cpu_num1 = pd.read_csv('/home/udhansen/nn_models/audio_model/benchmark/own_computer/tflite/benchmark_data_reg/run1/cpu/num1/Summary_by_node_type.csv', skiprows=1, index_col=0, skipinitialspace=True)\n",
    "print(df_cpu_num1)\n",
    "df_cpu_num1 = pd.DataFrame(df_cpu_num1.sum(), columns=['CPU thr: 1']).T"
   ]
  },
  {
   "cell_type": "code",
   "execution_count": 4,
   "metadata": {},
   "outputs": [
    {
     "name": "stdout",
     "output_type": "stream",
     "text": [
      "                 count  avg_ms      avg %     cdf %  mem KB  times called\n",
      "node type                                                                \n",
      "RFFT2D               1   0.437   29.8906%  29.8906%       0             1\n",
      "CONV_2D              2   0.417   28.5226%  58.4131%       0             2\n",
      "FULLY_CONNECTED      2   0.312   21.3406%  79.7538%       0             2\n",
      "GATHER               2   0.140   9.57592%  89.3297%       0             2\n",
      "COMPLEX_ABS          1   0.080   5.47196%  94.8016%       0             1\n",
      "MAX_POOL_2D          1   0.030   2.05198%  96.8536%       0             1\n",
      "RESIZE_BILINEAR      1   0.027   1.84679%  98.7004%       0             1\n",
      "MUL                  1   0.008  0.547196%  99.2476%       0             1\n",
      "PAD                  1   0.007  0.478796%  99.7264%       0             1\n",
      "RESHAPE              6   0.003  0.205198%  99.9316%       0             6\n"
     ]
    }
   ],
   "source": [
    "df_cpu_num2 = pd.read_csv('/home/udhansen/nn_models/audio_model/benchmark/own_computer/tflite/benchmark_data_reg/run1/cpu/num2/Summary_by_node_type.csv', skiprows=1, index_col=0, skipinitialspace=True)\n",
    "print(df_cpu_num2)\n",
    "df_cpu_num2 = pd.DataFrame(df_cpu_num2.sum(), columns=['CPU thr: 2']).T"
   ]
  },
  {
   "cell_type": "code",
   "execution_count": 5,
   "metadata": {},
   "outputs": [
    {
     "name": "stdout",
     "output_type": "stream",
     "text": [
      "                 count  avg_ms      avg %     cdf %  mem KB  times called\n",
      "node type                                                                \n",
      "RFFT2D               1   0.585   34.1905%  34.1905%       0             1\n",
      "CONV_2D              2   0.411    24.021%  58.2116%       0             2\n",
      "FULLY_CONNECTED      2   0.333   19.4623%  77.6739%       0             2\n",
      "GATHER               2   0.177   10.3448%  88.0187%       0             2\n",
      "COMPLEX_ABS          1   0.111   6.48743%  94.5061%       0             1\n",
      "RESIZE_BILINEAR      1   0.037   2.16248%  96.6686%       0             1\n",
      "MAX_POOL_2D          1   0.036   2.10403%  98.7726%       0             1\n",
      "MUL                  1   0.009  0.526008%  99.2987%       0             1\n",
      "PAD                  1   0.008  0.467563%  99.7662%       0             1\n",
      "RESHAPE              6   0.003  0.175336%  99.9416%       0             6\n"
     ]
    }
   ],
   "source": [
    "df_cpu_num4 = pd.read_csv('/home/udhansen/nn_models/audio_model/benchmark/own_computer/tflite/benchmark_data_reg/run1/cpu/num4/Summary_by_node_type.csv', skiprows=1, index_col=0, skipinitialspace=True)\n",
    "print(df_cpu_num4)\n",
    "df_cpu_num4 = pd.DataFrame(df_cpu_num4.sum(), columns=['CPU thr: 4']).T"
   ]
  },
  {
   "cell_type": "code",
   "execution_count": 6,
   "metadata": {},
   "outputs": [
    {
     "data": {
      "text/plain": [
       "CPU thr: def    1.443\n",
       "CPU thr: 1      1.468\n",
       "CPU thr: 2      1.461\n",
       "CPU thr: 4       1.71\n",
       "Name: avg_ms, dtype: object"
      ]
     },
     "execution_count": 6,
     "metadata": {},
     "output_type": "execute_result"
    }
   ],
   "source": [
    "df = pd.concat([df_cpu['avg_ms'], df_cpu_num1['avg_ms'], df_cpu_num2['avg_ms'], df_cpu_num4['avg_ms']])\n",
    "df "
   ]
  },
  {
   "cell_type": "code",
   "execution_count": 7,
   "metadata": {},
   "outputs": [
    {
     "data": {
      "text/plain": [
       "<Axes: >"
      ]
     },
     "execution_count": 7,
     "metadata": {},
     "output_type": "execute_result"
    },
    {
     "data": {
      "image/png": "[encoded data removed]",
      "text/plain": [
       "<Figure size 640x480 with 1 Axes>"
      ]
     },
     "metadata": {},
     "output_type": "display_data"
    }
   ],
   "source": [
    "df.plot.bar(y='avg_ms', rot=45)"
   ]
  },
  {
   "cell_type": "code",
   "execution_count": 8,
   "metadata": {},
   "outputs": [],
   "source": [
    "df_cpu_1000 = pd.read_csv('/home/udhansen/nn_models/audio_model/benchmark/own_computer/tflite/benchmark_data_reg/run1000/cpu/default/Summary_by_node_type.csv', skiprows=1, index_col=0, skipinitialspace=True)\n",
    "df_cpu_1000 = pd.DataFrame(df_cpu.sum(), columns=['CPU thr: def']).T"
   ]
  },
  {
   "cell_type": "code",
   "execution_count": 9,
   "metadata": {},
   "outputs": [],
   "source": [
    "df_cpu_num1_1000 = pd.read_csv('/home/udhansen/nn_models/audio_model/benchmark/own_computer/tflite/benchmark_data_reg/run1000/cpu/num1/Summary_by_node_type.csv', skiprows=1, index_col=0, skipinitialspace=True)\n",
    "df_cpu_num1_1000 = pd.DataFrame(df_cpu_num1.sum(), columns=['CPU thr: 1']).T"
   ]
  },
  {
   "cell_type": "code",
   "execution_count": 10,
   "metadata": {},
   "outputs": [],
   "source": [
    "df_cpu_num2_1000 = pd.read_csv('/home/udhansen/nn_models/audio_model/benchmark/own_computer/tflite/benchmark_data_reg/run1000/cpu/num2/Summary_by_node_type.csv', skiprows=1, index_col=0, skipinitialspace=True)\n",
    "df_cpu_num2_1000 = pd.DataFrame(df_cpu_num1.sum(), columns=['CPU thr: 2']).T"
   ]
  },
  {
   "cell_type": "code",
   "execution_count": 11,
   "metadata": {},
   "outputs": [],
   "source": [
    "df_cpu_num4_1000 = pd.read_csv('/home/udhansen/nn_models/audio_model/benchmark/own_computer/tflite/benchmark_data_reg/run1000/cpu/num4/Summary_by_node_type.csv', skiprows=1, index_col=0, skipinitialspace=True)\n",
    "df_cpu_num4_1000 = pd.DataFrame(df_cpu_num4.sum(), columns=['CPU thr: 4']).T"
   ]
  },
  {
   "cell_type": "code",
   "execution_count": 12,
   "metadata": {},
   "outputs": [
    {
     "data": {
      "text/plain": [
       "CPU thr: def    1.443\n",
       "CPU thr: 1      1.468\n",
       "CPU thr: 2      1.468\n",
       "CPU thr: 4       1.71\n",
       "Name: avg_ms, dtype: object"
      ]
     },
     "execution_count": 12,
     "metadata": {},
     "output_type": "execute_result"
    }
   ],
   "source": [
    "df_1000 = pd.concat([df_cpu_1000['avg_ms'], df_cpu_num1_1000['avg_ms'], df_cpu_num2_1000['avg_ms'], df_cpu_num4_1000['avg_ms']])\n",
    "df_1000 "
   ]
  },
  {
   "cell_type": "code",
   "execution_count": 13,
   "metadata": {},
   "outputs": [
    {
     "data": {
      "text/plain": [
       "<Axes: >"
      ]
     },
     "execution_count": 13,
     "metadata": {},
     "output_type": "execute_result"
    },
    {
     "data": {
      "image/png": "[encoded data removed]",
      "text/plain": [
       "<Figure size 640x480 with 1 Axes>"
      ]
     },
     "metadata": {},
     "output_type": "display_data"
    }
   ],
   "source": [
    "df_1000.plot.bar(y='avg_ms', rot=45)"
   ]
  }
 ],
 "metadata": {
  "kernelspec": {
   "display_name": "tf",
   "language": "python",
   "name": "python3"
  },
  "language_info": {
   "codemirror_mode": {
    "name": "ipython",
    "version": 3
   },
   "file_extension": ".py",
   "mimetype": "text/x-python",
   "name": "python",
   "nbconvert_exporter": "python",
   "pygments_lexer": "ipython3",
   "version": "3.9.17"
  },
  "orig_nbformat": 4
 },
 "nbformat": 4,
 "nbformat_minor": 2
}
